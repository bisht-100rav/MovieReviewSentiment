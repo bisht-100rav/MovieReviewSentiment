{
 "cells": [
  {
   "cell_type": "code",
   "execution_count": 75,
   "metadata": {},
   "outputs": [],
   "source": [
    "import tensorflow as tf\n",
    "from tensorflow import keras\n",
    "import numpy as np"
   ]
  },
  {
   "cell_type": "code",
   "execution_count": 3,
   "metadata": {},
   "outputs": [],
   "source": [
    "data = keras.datasets.imdb\n",
    "word_index = data.get_word_index()\n",
    "word_index = {k: (v + 3) for k, v in word_index.items()}\n",
    "word_index[\"<PAD>\"] = 0\n",
    "word_index[\"<START>\"] = 1\n",
    "word_index[\"<UNK>\"] = 2\n",
    "word_index[\"<UNUSED>\"] = 3"
   ]
  },
  {
   "cell_type": "code",
   "execution_count": 4,
   "metadata": {},
   "outputs": [],
   "source": [
    "def review_encode(s):\n",
    "    encoded = [1]\n",
    "\n",
    "    for word in s:\n",
    "        if word.lower() in word_index:\n",
    "            encoded.append(word_index[word.lower()])\n",
    "        else:\n",
    "            encoded.append(2)\n",
    "    return encoded"
   ]
  },
  {
   "cell_type": "code",
   "execution_count": 5,
   "metadata": {},
   "outputs": [],
   "source": [
    "model = keras.models.load_model(\"Moview_review_Model_1.h5\")"
   ]
  },
  {
   "cell_type": "code",
   "execution_count": 6,
   "metadata": {},
   "outputs": [
    {
     "name": "stdout",
     "output_type": "stream",
     "text": [
      "[0.95318717]\n"
     ]
    }
   ],
   "source": [
    "with open(\"avenger.txt\", encoding=\"utf-8\") as f:\n",
    "    for line in f.readlines():\n",
    "        nline = line.replace(\",\", \"\").replace(\".\", \"\").replace(\"(\", \"\").replace(\")\", \"\").replace(\":\", \"\").replace(\"\\\"\",\"\").strip().split(\" \")\n",
    "        encode = review_encode(nline)\n",
    "        encode = keras.preprocessing.sequence.pad_sequences([encode], value=word_index[\"<PAD>\"], padding=\"post\", maxlen = 250)\n",
    "        predict = model.predict(encode)\n",
    "        #print(line)\n",
    "        #print(encode)\n",
    "        print(predict[0])"
   ]
  },
  {
   "cell_type": "code",
   "execution_count": 7,
   "metadata": {},
   "outputs": [],
   "source": [
    "string = \" Dear Manny/Augustas/Sushant Singh Rajput you did leave a mark, you left all your viewers speechless. Be it in the reel world or the real world. You were the most amazing character and I enjoyed you act, and sobbed at the same time, watching you smile and crack jokes made me so emotional. How could a person this cheerful with the brightest not with us anymore. This movie was very warm just the right mix of humor and drama and emotions. Its so fresh that one can re-watch it a 100 times and still wont get bored. I recommend it to all the people out their, because it is not just about cancer or just the regular teenage love story, it far more than that. Give it a watch and I'm sure you'll agree with me.\""
   ]
  },
  {
   "cell_type": "code",
   "execution_count": 8,
   "metadata": {},
   "outputs": [
    {
     "name": "stdout",
     "output_type": "stream",
     "text": [
      "[0.95318717]\n"
     ]
    }
   ],
   "source": [
    "string = line\n",
    "nline = line.replace(\",\", \"\").replace(\".\", \"\").replace(\"(\", \"\").replace(\")\", \"\").replace(\":\", \"\").replace(\"\\\"\",\"\").strip().split(\" \")\n",
    "encode = review_encode(nline)\n",
    "encode = keras.preprocessing.sequence.pad_sequences([encode], value=word_index[\"<PAD>\"], padding=\"post\", maxlen = 250)\n",
    "predict = model.predict(encode)\n",
    "#print(line)\n",
    "#print(encode)\n",
    "print(predict[0])"
   ]
  },
  {
   "cell_type": "code",
   "execution_count": 9,
   "metadata": {},
   "outputs": [],
   "source": [
    "string_1 = \" After Avengers Infinity War, we waited for the Avengers Endgame. We wondered how the story would go on, how our heroes would turn back, what would be the end of Thanos. Many theories related to this have been put forward. Avengers Endgame was undoubtedly the most anticipated film of recent years. Normally, the higher the expectation, the higher the probability of disappointment. But this is not the case for Endgame. Whatever you're expecting, you find much more in the film. This means that the biggest concern about the film has disappeared.On the other hand, another comparison comes up. Is Endgame more successful than Infinity War? We can comfortably say it Avengers Infinity War is just the beginning of the story. Endgame was the finale of the story. So we shouldn't think of these two films as two separate stories. There is only one story divided into two parts.Avengers Endgame is, above all, a great homage to the ten-year history of the Marvel Cinematic Universe. The story highlights the original Avengers team. Iron Man, Captain America, Thor, Hulk, Black Widow and Hawkeye are at the center of events. No character comes in front of them. Of course there are many characters that play an important role in the story outside the original Avengers team. Everyone's concern was that Captain Marvel, who was included in the Marvel world, overshadowed other heroes. We can say that this certainly did not happen. What is important in this struggle is not how strong you are, but how good you are. This comes to the fore in all areas. It gives good message about being a hero and a family.Of course, Avengers Endgame has some critical aspects. For example, is the three-hour period necessary in terms of the story? It can be discussed. The head of the story moves much slower than the rest. It also drags the heroes into an emotional predicament. Then the tempo is rising and the heavy scenes we are watching are getting more meaningful. The last fourty five minutes of the movie is fully action packed. But the last fourty five minutes goes so fast that you don't even realize it. Action and battle scenes are really successful. There is not even a slight distress about visual effects. There are also slight logic errors in the film, but in general the story is so successful that these details become meaningless and insignificant after a certain point.Lastly, Avengers Endgame doesn't have a movie end scene. Because after the film's final, there is no need for another scene. The Marvel legend Stan Lee appears with a small stage. But this is the last surprise scene in the Marvel Cinematic Universe. Moreover, there is no clue about Marvel's future. This makes us wonder more about Spider-Man: Far from Home. \""
   ]
  },
  {
   "cell_type": "code",
   "execution_count": 10,
   "metadata": {},
   "outputs": [
    {
     "name": "stdout",
     "output_type": "stream",
     "text": [
      "[0.95318717]\n"
     ]
    }
   ],
   "source": [
    "string_1 = line\n",
    "nline = line.replace(\",\", \"\").replace(\".\", \"\").replace(\"(\", \"\").replace(\")\", \"\").replace(\":\", \"\").replace(\"\\\"\",\"\").strip().split(\" \")\n",
    "encode = review_encode(nline)\n",
    "encode = keras.preprocessing.sequence.pad_sequences([encode], value=word_index[\"<PAD>\"], padding=\"post\", maxlen = 250)\n",
    "predict = model.predict(encode)\n",
    "#print(line)\n",
    "#print(encode)\n",
    "print(predict[0])"
   ]
  },
  {
   "cell_type": "code",
   "execution_count": 11,
   "metadata": {},
   "outputs": [],
   "source": [
    "import tkinter as tk"
   ]
  },
  {
   "cell_type": "code",
   "execution_count": 102,
   "metadata": {},
   "outputs": [
    {
     "name": "stdout",
     "output_type": "stream",
     "text": [
      "[0.49456224]\n"
     ]
    }
   ],
   "source": [
    "class MainApplication(tk.Frame):\n",
    "    def __init__(self, parent, *args, **kwargs):\n",
    "        tk.Frame.__init__(self, parent, *args, **kwargs)\n",
    "        self.parent = parent\n",
    "        \n",
    "        \n",
    "        data = keras.datasets.imdb\n",
    "        word_index = data.get_word_index()\n",
    "        word_index = {k: (v + 3) for k, v in word_index.items()}\n",
    "        word_index[\"<PAD>\"] = 0\n",
    "        word_index[\"<START>\"] = 1\n",
    "        word_index[\"<UNK>\"] = 2\n",
    "        word_index[\"<UNUSED>\"] = 3\n",
    "        \n",
    "        def review_encode(s):\n",
    "            encoded = [1]\n",
    "\n",
    "            for word in s:\n",
    "                if word.lower() in word_index:\n",
    "                    encoded.append(word_index[word.lower()])\n",
    "                else:\n",
    "                    encoded.append(2)\n",
    "            return encoded\n",
    "        \n",
    "        \n",
    "        model = keras.models.load_model(\"Moview_review_Model_1.h5\")\n",
    "        \n",
    "        #Label\n",
    "        l1 = tk.Label(root, text = 'Movie Review Analysis', font = ('Arial Bold', 10))\n",
    "        l1.pack(side ='top')\n",
    "        \n",
    "        S = tk.Scrollbar(root)\n",
    "        T = tk.Text(root)\n",
    "        \n",
    "        # Get Text from the text Box\n",
    "        def get_text():\n",
    "            inputValue = T.get(\"1.0\",\"end-1c\")\n",
    "            return inputValue\n",
    "\n",
    "        # Commancd for Button 1\n",
    "        def on_click():\n",
    "            line = get_text()\n",
    "            nline = line.replace(\",\", \"\").replace(\".\", \"\").replace(\"(\", \"\").replace(\")\", \"\").replace(\":\", \"\").replace(\"\\\"\",\"\").strip().split(\" \")\n",
    "            encode = review_encode(nline)\n",
    "            encode = keras.preprocessing.sequence.pad_sequences([encode], value=word_index[\"<PAD>\"], padding=\"post\", maxlen = 250)\n",
    "            predict = model.predict(encode)\n",
    "            #print(line)\n",
    "            #print(encode)\n",
    "            print(predict[0])\n",
    "        \n",
    "        \n",
    "        # Button 1\n",
    "        bt = tk.Button(root, text = \"Analyse\", command = on_click)\n",
    "        bt.pack(side = 'bottom')\n",
    "        \n",
    "        S.pack(side = tk.RIGHT, fill = tk.Y)\n",
    "        T.pack(side = tk.LEFT, fill = tk.Y)\n",
    "        \n",
    "        S.config(command = T.yview)\n",
    "        T.config(yscrollcommand = S.set)\n",
    "        \n",
    "        entry = tk.Entry(root, textvariable = T)\n",
    "        \n",
    "if __name__ == \"__main__\":\n",
    "    root = tk.Tk()\n",
    "    MainApplication(root).pack(side=\"top\", fill=\"both\", expand=True)\n",
    "    root.geometry(\"600x400\")\n",
    "    root.title(\"SENTIMENT ANALYSIS\")\n",
    "    root.mainloop()"
   ]
  },
  {
   "cell_type": "code",
   "execution_count": 100,
   "metadata": {},
   "outputs": [
    {
     "name": "stdout",
     "output_type": "stream",
     "text": [
      "Collecting pyinstaller\n",
      "  Downloading pyinstaller-4.0.tar.gz (3.5 MB)\n",
      "  Installing build dependencies: started\n",
      "  Installing build dependencies: finished with status 'done'\n",
      "  Getting requirements to build wheel: started\n",
      "  Getting requirements to build wheel: finished with status 'done'\n",
      "    Preparing wheel metadata: started\n",
      "    Preparing wheel metadata: finished with status 'done'\n",
      "Requirement already satisfied: setuptools in c:\\users\\saurav\\anaconda3\\lib\\site-packages (from pyinstaller) (45.2.0.post20200210)\n",
      "Collecting pyinstaller-hooks-contrib>=2020.6\n",
      "  Downloading pyinstaller_hooks_contrib-2020.7-py2.py3-none-any.whl (152 kB)\n",
      "Requirement already satisfied: pywin32-ctypes>=0.2.0; sys_platform == \"win32\" in c:\\users\\saurav\\anaconda3\\lib\\site-packages (from pyinstaller) (0.2.0)\n",
      "Collecting altgraph\n",
      "  Downloading altgraph-0.17-py2.py3-none-any.whl (21 kB)\n",
      "Collecting pefile>=2017.8.1; sys_platform == \"win32\"\n",
      "  Downloading pefile-2019.4.18.tar.gz (62 kB)\n",
      "Requirement already satisfied: future in c:\\users\\saurav\\anaconda3\\lib\\site-packages (from pefile>=2017.8.1; sys_platform == \"win32\"->pyinstaller) (0.18.2)\n",
      "Building wheels for collected packages: pyinstaller, pefile\n",
      "  Building wheel for pyinstaller (PEP 517): started\n",
      "  Building wheel for pyinstaller (PEP 517): finished with status 'done'\n",
      "  Created wheel for pyinstaller: filename=pyinstaller-4.0-py3-none-any.whl size=2789243 sha256=f6c99e8f0500f730b4b4f9a6d5e2af4ac53646316e9ef103a663e40325937438\n",
      "  Stored in directory: c:\\users\\saurav\\appdata\\local\\pip\\cache\\wheels\\3c\\26\\58\\0a2ea56951fcffedcf013660fc2e820df7c9f341744b67e0fb\n",
      "  Building wheel for pefile (setup.py): started\n",
      "  Building wheel for pefile (setup.py): finished with status 'done'\n",
      "  Created wheel for pefile: filename=pefile-2019.4.18-py3-none-any.whl size=60827 sha256=fbd069f5b85a5c1ea34bf0ba4d7c9a88e58208b288f81ac53c22d9adbb046439\n",
      "  Stored in directory: c:\\users\\saurav\\appdata\\local\\pip\\cache\\wheels\\e4\\0c\\b1\\8950a0d751fcd42dfd7943069545b33430408a50e5d8deef0c\n",
      "Successfully built pyinstaller pefile\n",
      "Installing collected packages: pyinstaller-hooks-contrib, altgraph, pefile, pyinstaller\n",
      "Successfully installed altgraph-0.17 pefile-2019.4.18 pyinstaller-4.0 pyinstaller-hooks-contrib-2020.7\n",
      "Note: you may need to restart the kernel to use updated packages.\n"
     ]
    }
   ],
   "source": [
    "pip install pyinstaller"
   ]
  },
  {
   "cell_type": "code",
   "execution_count": 101,
   "metadata": {},
   "outputs": [
    {
     "ename": "SyntaxError",
     "evalue": "invalid syntax (<ipython-input-101-f6f100ed0d53>, line 1)",
     "output_type": "error",
     "traceback": [
      "\u001b[1;36m  File \u001b[1;32m\"<ipython-input-101-f6f100ed0d53>\"\u001b[1;36m, line \u001b[1;32m1\u001b[0m\n\u001b[1;33m    pyinstaller --onefile main_application.py\u001b[0m\n\u001b[1;37m                                         ^\u001b[0m\n\u001b[1;31mSyntaxError\u001b[0m\u001b[1;31m:\u001b[0m invalid syntax\n"
     ]
    }
   ],
   "source": []
  },
  {
   "cell_type": "code",
   "execution_count": null,
   "metadata": {},
   "outputs": [],
   "source": []
  }
 ],
 "metadata": {
  "kernelspec": {
   "display_name": "Python 3",
   "language": "python",
   "name": "python3"
  },
  "language_info": {
   "codemirror_mode": {
    "name": "ipython",
    "version": 3
   },
   "file_extension": ".py",
   "mimetype": "text/x-python",
   "name": "python",
   "nbconvert_exporter": "python",
   "pygments_lexer": "ipython3",
   "version": "3.7.6"
  }
 },
 "nbformat": 4,
 "nbformat_minor": 4
}
