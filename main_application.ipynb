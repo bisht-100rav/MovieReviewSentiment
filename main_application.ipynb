{
 "cells": [
  {
   "cell_type": "code",
   "execution_count": 1,
   "metadata": {},
   "outputs": [],
   "source": [
    "import tensorflow as tf\n",
    "from tensorflow import keras\n",
    "import numpy as np"
   ]
  },
  {
   "cell_type": "code",
   "execution_count": 2,
   "metadata": {},
   "outputs": [],
   "source": [
    "data = keras.datasets.imdb\n",
    "word_index = data.get_word_index()\n",
    "word_index = {k: (v + 3) for k, v in word_index.items()}\n",
    "word_index[\"<PAD>\"] = 0\n",
    "word_index[\"<START>\"] = 1\n",
    "word_index[\"<UNK>\"] = 2\n",
    "word_index[\"<UNUSED>\"] = 3"
   ]
  },
  {
   "cell_type": "code",
   "execution_count": 3,
   "metadata": {},
   "outputs": [],
   "source": [
    "def review_encode(s):\n",
    "    encoded = [1]\n",
    "\n",
    "    for word in s:\n",
    "        if word.lower() in word_index:\n",
    "            encoded.append(word_index[word.lower()])\n",
    "        else:\n",
    "            encoded.append(2)\n",
    "    return encoded"
   ]
  },
  {
   "cell_type": "code",
   "execution_count": 4,
   "metadata": {},
   "outputs": [],
   "source": [
    "model = keras.models.load_model(\"Moview_review_Model_1.h5\")"
   ]
  },
  {
   "cell_type": "code",
   "execution_count": 5,
   "metadata": {},
   "outputs": [
    {
     "name": "stdout",
     "output_type": "stream",
     "text": [
      "[0.9458745]\n"
     ]
    }
   ],
   "source": [
    "with open(\"avenger.txt\", encoding=\"utf-8\") as f:\n",
    "    for line in f.readlines():\n",
    "        nline = line.replace(\",\", \"\").replace(\".\", \"\").replace(\"(\", \"\").replace(\")\", \"\").replace(\":\", \"\").replace(\"\\\"\",\"\").strip().split(\" \")\n",
    "        encode = review_encode(nline)\n",
    "        encode = keras.preprocessing.sequence.pad_sequences([encode], value=word_index[\"<PAD>\"], padding=\"post\", maxlen = 250)\n",
    "        predict = model.predict(encode)\n",
    "        #print(line)\n",
    "        #print(encode)\n",
    "        print(predict[0])"
   ]
  },
  {
   "cell_type": "code",
   "execution_count": 6,
   "metadata": {},
   "outputs": [],
   "source": [
    "string = \" Dear Manny/Augustas/Sushant Singh Rajput you did leave a mark, you left all your viewers speechless. Be it in the reel world or the real world. You were the most amazing character and I enjoyed you act, and sobbed at the same time, watching you smile and crack jokes made me so emotional. How could a person this cheerful with the brightest not with us anymore. This movie was very warm just the right mix of humor and drama and emotions. Its so fresh that one can re-watch it a 100 times and still wont get bored. I recommend it to all the people out their, because it is not just about cancer or just the regular teenage love story, it far more than that. Give it a watch and I'm sure you'll agree with me.\""
   ]
  },
  {
   "cell_type": "code",
   "execution_count": 7,
   "metadata": {},
   "outputs": [
    {
     "name": "stdout",
     "output_type": "stream",
     "text": [
      "[0.9458745]\n"
     ]
    }
   ],
   "source": [
    "string = line\n",
    "nline = line.replace(\",\", \"\").replace(\".\", \"\").replace(\"(\", \"\").replace(\")\", \"\").replace(\":\", \"\").replace(\"\\\"\",\"\").strip().split(\" \")\n",
    "encode = review_encode(nline)\n",
    "encode = keras.preprocessing.sequence.pad_sequences([encode], value=word_index[\"<PAD>\"], padding=\"post\", maxlen = 250)\n",
    "predict = model.predict(encode)\n",
    "#print(line)\n",
    "#print(encode)\n",
    "print(predict[0])"
   ]
  },
  {
   "cell_type": "code",
   "execution_count": 8,
   "metadata": {},
   "outputs": [],
   "source": [
    "string_1 = \" After Avengers Infinity War, we waited for the Avengers Endgame. We wondered how the story would go on, how our heroes would turn back, what would be the end of Thanos. Many theories related to this have been put forward. Avengers Endgame was undoubtedly the most anticipated film of recent years. Normally, the higher the expectation, the higher the probability of disappointment. But this is not the case for Endgame. Whatever you're expecting, you find much more in the film. This means that the biggest concern about the film has disappeared.On the other hand, another comparison comes up. Is Endgame more successful than Infinity War? We can comfortably say it Avengers Infinity War is just the beginning of the story. Endgame was the finale of the story. So we shouldn't think of these two films as two separate stories. There is only one story divided into two parts.Avengers Endgame is, above all, a great homage to the ten-year history of the Marvel Cinematic Universe. The story highlights the original Avengers team. Iron Man, Captain America, Thor, Hulk, Black Widow and Hawkeye are at the center of events. No character comes in front of them. Of course there are many characters that play an important role in the story outside the original Avengers team. Everyone's concern was that Captain Marvel, who was included in the Marvel world, overshadowed other heroes. We can say that this certainly did not happen. What is important in this struggle is not how strong you are, but how good you are. This comes to the fore in all areas. It gives good message about being a hero and a family.Of course, Avengers Endgame has some critical aspects. For example, is the three-hour period necessary in terms of the story? It can be discussed. The head of the story moves much slower than the rest. It also drags the heroes into an emotional predicament. Then the tempo is rising and the heavy scenes we are watching are getting more meaningful. The last fourty five minutes of the movie is fully action packed. But the last fourty five minutes goes so fast that you don't even realize it. Action and battle scenes are really successful. There is not even a slight distress about visual effects. There are also slight logic errors in the film, but in general the story is so successful that these details become meaningless and insignificant after a certain point.Lastly, Avengers Endgame doesn't have a movie end scene. Because after the film's final, there is no need for another scene. The Marvel legend Stan Lee appears with a small stage. But this is the last surprise scene in the Marvel Cinematic Universe. Moreover, there is no clue about Marvel's future. This makes us wonder more about Spider-Man: Far from Home. \""
   ]
  },
  {
   "cell_type": "code",
   "execution_count": 9,
   "metadata": {},
   "outputs": [
    {
     "name": "stdout",
     "output_type": "stream",
     "text": [
      "[0.9458745]\n"
     ]
    }
   ],
   "source": [
    "string_1 = line\n",
    "nline = line.replace(\",\", \"\").replace(\".\", \"\").replace(\"(\", \"\").replace(\")\", \"\").replace(\":\", \"\").replace(\"\\\"\",\"\").strip().split(\" \")\n",
    "encode = review_encode(nline)\n",
    "encode = keras.preprocessing.sequence.pad_sequences([encode], value=word_index[\"<PAD>\"], padding=\"post\", maxlen = 250)\n",
    "predict = model.predict(encode)\n",
    "#print(line)\n",
    "#print(encode)\n",
    "print(predict[0])"
   ]
  },
  {
   "cell_type": "code",
   "execution_count": 10,
   "metadata": {},
   "outputs": [],
   "source": [
    "import tkinter as tk\n",
    "from tkinter import messagebox"
   ]
  },
  {
   "cell_type": "code",
   "execution_count": 11,
   "metadata": {},
   "outputs": [],
   "source": [
    "class MainApplication(tk.Frame):\n",
    "    def __init__(self, parent, *args, **kwargs):\n",
    "        tk.Frame.__init__(self, parent, *args, **kwargs)\n",
    "        self.parent = parent\n",
    "        \n",
    "        \n",
    "        data = keras.datasets.imdb\n",
    "        word_index = data.get_word_index()\n",
    "        word_index = {k: (v + 3) for k, v in word_index.items()}\n",
    "        word_index[\"<PAD>\"] = 0\n",
    "        word_index[\"<START>\"] = 1\n",
    "        word_index[\"<UNK>\"] = 2\n",
    "        word_index[\"<UNUSED>\"] = 3\n",
    "        \n",
    "        def review_encode(s):\n",
    "            encoded = [1]\n",
    "\n",
    "            for word in s:\n",
    "                if word.lower() in word_index:\n",
    "                    encoded.append(word_index[word.lower()])\n",
    "                else:\n",
    "                    encoded.append(2)\n",
    "            return encoded\n",
    "        \n",
    "        \n",
    "        model = keras.models.load_model(\"Moview_review_Model_1.h5\")\n",
    "        \n",
    "        #Label\n",
    "        l1 = tk.Label(root, text = 'Movie Review Analysis', font = ('Arial Bold', 10))\n",
    "        l1.pack(side ='top')\n",
    "        \n",
    "        S = tk.Scrollbar(root)\n",
    "        T = tk.Text(root)\n",
    "        \n",
    "        # Get Text from the text Box\n",
    "        def get_text():\n",
    "            inputValue = T.get(\"1.0\",\"end-1c\")\n",
    "            return inputValue\n",
    "\n",
    "        # Commancd for Button 1\n",
    "        def on_click():\n",
    "            line = get_text()\n",
    "            nline = line.replace(\",\", \"\").replace(\".\", \"\").replace(\"(\", \"\").replace(\")\", \"\").replace(\":\", \"\").replace(\"\\\"\",\"\").strip().split(\" \")\n",
    "            encode = review_encode(nline)\n",
    "            encode = keras.preprocessing.sequence.pad_sequences([encode], value=word_index[\"<PAD>\"], padding=\"post\", maxlen = 250)\n",
    "            predict = model.predict(encode)\n",
    "            #print(line)\n",
    "            #print(encode)\n",
    "            result = 100 * predict[0]\n",
    "            if result <= 10:\n",
    "                messagebox.showinfo(\"Rating\", \"POOR\")\n",
    "                print(result)\n",
    "            if result > 10 and result <= 50:\n",
    "                messagebox.showinfo(\"Rating\", \"AVERAGE\")\n",
    "                print(result)\n",
    "            if result > 50 and result <= 70:\n",
    "                messagebox.showinfo(\"Rating\", \"GOOD\")\n",
    "                print(result)\n",
    "            if result > 70:\n",
    "                messagebox.showinfo(\"Rating\", \"VERY GOOD\")\n",
    "                print(result)\n",
    "        \n",
    "        # Button 1\n",
    "        bt = tk.Button(root, text = \"Analyse\", command = on_click)\n",
    "        bt.pack(side = 'bottom')\n",
    "        \n",
    "        S.pack(side = tk.RIGHT, fill = tk.Y)\n",
    "        T.pack(side = tk.LEFT, fill = tk.Y)\n",
    "        \n",
    "        S.config(command = T.yview)\n",
    "        T.config(yscrollcommand = S.set)\n",
    "        \n",
    "        entry = tk.Entry(root, textvariable = T)\n",
    "        \n",
    "if __name__ == \"__main__\":\n",
    "    root = tk.Tk()\n",
    "    MainApplication(root).pack(side=\"top\", fill=\"both\", expand=True)\n",
    "    root.geometry(\"600x400\")\n",
    "    root.title(\"SENTIMENT ANALYSIS\")\n",
    "    root.mainloop()"
   ]
  },
  {
   "cell_type": "code",
   "execution_count": null,
   "metadata": {},
   "outputs": [],
   "source": []
  }
 ],
 "metadata": {
  "kernelspec": {
   "display_name": "Python 3",
   "language": "python",
   "name": "python3"
  },
  "language_info": {
   "codemirror_mode": {
    "name": "ipython",
    "version": 3
   },
   "file_extension": ".py",
   "mimetype": "text/x-python",
   "name": "python",
   "nbconvert_exporter": "python",
   "pygments_lexer": "ipython3",
   "version": "3.7.6"
  }
 },
 "nbformat": 4,
 "nbformat_minor": 4
}
