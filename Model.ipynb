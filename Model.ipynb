{
 "cells": [
  {
   "cell_type": "code",
   "execution_count": 30,
   "metadata": {},
   "outputs": [],
   "source": [
    "import tensorflow as tf\n",
    "from tensorflow import keras\n",
    "import numpy as np"
   ]
  },
  {
   "cell_type": "code",
   "execution_count": 31,
   "metadata": {},
   "outputs": [],
   "source": [
    "data = keras.datasets.imdb"
   ]
  },
  {
   "cell_type": "code",
   "execution_count": 32,
   "metadata": {},
   "outputs": [],
   "source": [
    "(train_data, train_labels), (test_data, test_labels) = data.load_data(num_words=10000)  \n",
    "# taking words that are 10000 frequent"
   ]
  },
  {
   "cell_type": "code",
   "execution_count": 33,
   "metadata": {},
   "outputs": [
    {
     "name": "stdout",
     "output_type": "stream",
     "text": [
      "Train Set =  [1, 14, 22, 16, 43, 530, 973, 1622, 1385, 65, 458, 4468, 66, 3941, 4, 173, 36, 256, 5, 25, 100, 43, 838, 112, 50, 670, 2, 9, 35, 480, 284, 5, 150, 4, 172, 112, 167, 2, 336, 385, 39, 4, 172, 4536, 1111, 17, 546, 38, 13, 447, 4, 192, 50, 16, 6, 147, 2025, 19, 14, 22, 4, 1920, 4613, 469, 4, 22, 71, 87, 12, 16, 43, 530, 38, 76, 15, 13, 1247, 4, 22, 17, 515, 17, 12, 16, 626, 18, 2, 5, 62, 386, 12, 8, 316, 8, 106, 5, 4, 2223, 5244, 16, 480, 66, 3785, 33, 4, 130, 12, 16, 38, 619, 5, 25, 124, 51, 36, 135, 48, 25, 1415, 33, 6, 22, 12, 215, 28, 77, 52, 5, 14, 407, 16, 82, 2, 8, 4, 107, 117, 5952, 15, 256, 4, 2, 7, 3766, 5, 723, 36, 71, 43, 530, 476, 26, 400, 317, 46, 7, 4, 2, 1029, 13, 104, 88, 4, 381, 15, 297, 98, 32, 2071, 56, 26, 141, 6, 194, 7486, 18, 4, 226, 22, 21, 134, 476, 26, 480, 5, 144, 30, 5535, 18, 51, 36, 28, 224, 92, 25, 104, 4, 226, 65, 16, 38, 1334, 88, 12, 16, 283, 5, 16, 4472, 113, 103, 32, 15, 16, 5345, 19, 178, 32]\n",
      "Label =  [0 1 1 0 1 1 1 0 0 1]\n"
     ]
    }
   ],
   "source": [
    "print('Train Set = ',train_data[0])\n",
    "print('Label = ',test_labels[:10])"
   ]
  },
  {
   "cell_type": "code",
   "execution_count": 34,
   "metadata": {},
   "outputs": [],
   "source": [
    "word_index = data.get_word_index()"
   ]
  },
  {
   "cell_type": "code",
   "execution_count": 35,
   "metadata": {},
   "outputs": [],
   "source": [
    "word_index = {k: (v + 3) for k, v in word_index.items()}\n",
    "word_index[\"<PAD>\"] = 0\n",
    "word_index[\"<START>\"] = 1\n",
    "word_index[\"<UNK>\"] = 2\n",
    "word_index[\"<UNUSED>\"] = 3"
   ]
  },
  {
   "cell_type": "code",
   "execution_count": 36,
   "metadata": {},
   "outputs": [],
   "source": [
    "reverse_word_index = dict([(value, key) for (key, value) in word_index.items()])"
   ]
  },
  {
   "cell_type": "code",
   "execution_count": 37,
   "metadata": {},
   "outputs": [],
   "source": [
    "# redefining train and test data that is trimming data\n",
    "# preprocessing of data\n",
    "\n",
    "train_data = keras.preprocessing.sequence.pad_sequences(train_data, value=word_index[\"<PAD>\"], padding=\"post\", maxlen=250)\n",
    "test_data = keras.preprocessing.sequence.pad_sequences(test_data, value=word_index[\"<PAD>\"], padding=\"post\", maxlen=250)"
   ]
  },
  {
   "cell_type": "code",
   "execution_count": 38,
   "metadata": {},
   "outputs": [
    {
     "name": "stdout",
     "output_type": "stream",
     "text": [
      "[   1   14   22   16   43  530  973 1622 1385   65  458 4468   66 3941\n",
      "    4  173   36  256    5   25  100   43  838  112   50  670    2    9\n",
      "   35  480  284    5  150    4  172  112  167    2  336  385   39    4\n",
      "  172 4536 1111   17  546   38   13  447    4  192   50   16    6  147\n",
      " 2025   19   14   22    4 1920 4613  469    4   22   71   87   12   16\n",
      "   43  530   38   76   15   13 1247    4   22   17  515   17   12   16\n",
      "  626   18    2    5   62  386   12    8  316    8  106    5    4 2223\n",
      " 5244   16  480   66 3785   33    4  130   12   16   38  619    5   25\n",
      "  124   51   36  135   48   25 1415   33    6   22   12  215   28   77\n",
      "   52    5   14  407   16   82    2    8    4  107  117 5952   15  256\n",
      "    4    2    7 3766    5  723   36   71   43  530  476   26  400  317\n",
      "   46    7    4    2 1029   13  104   88    4  381   15  297   98   32\n",
      " 2071   56   26  141    6  194 7486   18    4  226   22   21  134  476\n",
      "   26  480    5  144   30 5535   18   51   36   28  224   92   25  104\n",
      "    4  226   65   16   38 1334   88   12   16  283    5   16 4472  113\n",
      "  103   32   15   16 5345   19  178   32    0    0    0    0    0    0\n",
      "    0    0    0    0    0    0    0    0    0    0    0    0    0    0\n",
      "    0    0    0    0    0    0    0    0    0    0    0    0]\n"
     ]
    }
   ],
   "source": [
    "print(train_data[0])"
   ]
  },
  {
   "cell_type": "code",
   "execution_count": 39,
   "metadata": {},
   "outputs": [
    {
     "name": "stdout",
     "output_type": "stream",
     "text": [
      "[   1  591  202   14   31    6  717   10   10    2    2    5    4  360\n",
      "    7    4  177 5760  394  354    4  123    9 1035 1035 1035   10   10\n",
      "   13   92  124   89  488 7944  100   28 1668   14   31   23   27 7479\n",
      "   29  220  468    8  124   14  286  170    8  157   46    5   27  239\n",
      "   16  179    2   38   32   25 7944  451  202   14    6  717    0    0\n",
      "    0    0    0    0    0    0    0    0    0    0    0    0    0    0\n",
      "    0    0    0    0    0    0    0    0    0    0    0    0    0    0\n",
      "    0    0    0    0    0    0    0    0    0    0    0    0    0    0\n",
      "    0    0    0    0    0    0    0    0    0    0    0    0    0    0\n",
      "    0    0    0    0    0    0    0    0    0    0    0    0    0    0\n",
      "    0    0    0    0    0    0    0    0    0    0    0    0    0    0\n",
      "    0    0    0    0    0    0    0    0    0    0    0    0    0    0\n",
      "    0    0    0    0    0    0    0    0    0    0    0    0    0    0\n",
      "    0    0    0    0    0    0    0    0    0    0    0    0    0    0\n",
      "    0    0    0    0    0    0    0    0    0    0    0    0    0    0\n",
      "    0    0    0    0    0    0    0    0    0    0    0    0    0    0\n",
      "    0    0    0    0    0    0    0    0    0    0    0    0    0    0\n",
      "    0    0    0    0    0    0    0    0    0    0    0    0]\n"
     ]
    }
   ],
   "source": [
    "print(test_data[0])"
   ]
  },
  {
   "cell_type": "code",
   "execution_count": 40,
   "metadata": {},
   "outputs": [],
   "source": [
    "# function to print human readable review\n",
    "def decode_review(text): \n",
    "    return \" \".join([reverse_word_index.get(i, \"?\") for i in text])"
   ]
  },
  {
   "cell_type": "code",
   "execution_count": 41,
   "metadata": {},
   "outputs": [
    {
     "name": "stdout",
     "output_type": "stream",
     "text": [
      "script and great acting my words of wisdom for you are that you probably have no friends because you were in the movie you are probably wishing you had all that time back of your life that you wasted on making this movie br br there is no way that this is a serious movie there was an old guy that gets stabbed and it doesn't even hurt him at all and when everyone else gets stabbed they drop dead br br it was probably important that these people killed random people and ate them and also hung out with an 80 year old man that wanted to put the parts into his body br br my favorite part was when the old man found the or however you spell it because that made the movie seem very intellectual and probably helped to reach the older crowd br br what really blew my mind that they decided to throw in that random scene about the college girls going into the woods looking for fake <UNK> br br if you do attempt to see this movie you should probably fill up your <UNK> and drop your <UNK> in it and be ready to jump in br br this is a must see for anyone who believes there life could not get any worse because this will help you realize there are people out there the makers of this movie who are even more pathetic and are going no where in life\n"
     ]
    }
   ],
   "source": [
    "print(decode_review(test_data[13]))"
   ]
  },
  {
   "cell_type": "code",
   "execution_count": 42,
   "metadata": {},
   "outputs": [
    {
     "name": "stdout",
     "output_type": "stream",
     "text": [
      "250 250\n"
     ]
    }
   ],
   "source": [
    "print(len(test_data[0]),len(test_data[44]))  # having different len of reviews"
   ]
  },
  {
   "cell_type": "code",
   "execution_count": 43,
   "metadata": {},
   "outputs": [],
   "source": [
    "# model\n",
    "# model is to tell which movie review is good or which is bad\n",
    "model = keras.Sequential()"
   ]
  },
  {
   "cell_type": "code",
   "execution_count": 44,
   "metadata": {},
   "outputs": [],
   "source": [
    "model.add(keras.layers.Embedding(88000, 16)) # we are creating 10,000 vectors of each word of 16 dimensions\n",
    "model.add(keras.layers.GlobalAveragePooling1D()) # puts higher dimension data to lower dimension\n",
    "model.add(keras.layers.Dense(16, activation = \"relu\"))\n",
    "model.add(keras.layers.Dense(1, activation=\"sigmoid\"))"
   ]
  },
  {
   "cell_type": "code",
   "execution_count": 45,
   "metadata": {},
   "outputs": [
    {
     "name": "stdout",
     "output_type": "stream",
     "text": [
      "Model: \"sequential_1\"\n",
      "_________________________________________________________________\n",
      "Layer (type)                 Output Shape              Param #   \n",
      "=================================================================\n",
      "embedding_1 (Embedding)      (None, None, 16)          1408000   \n",
      "_________________________________________________________________\n",
      "global_average_pooling1d_1 ( (None, 16)                0         \n",
      "_________________________________________________________________\n",
      "dense_2 (Dense)              (None, 16)                272       \n",
      "_________________________________________________________________\n",
      "dense_3 (Dense)              (None, 1)                 17        \n",
      "=================================================================\n",
      "Total params: 1,408,289\n",
      "Trainable params: 1,408,289\n",
      "Non-trainable params: 0\n",
      "_________________________________________________________________\n"
     ]
    }
   ],
   "source": [
    "model.summary()"
   ]
  },
  {
   "cell_type": "code",
   "execution_count": 46,
   "metadata": {},
   "outputs": [],
   "source": [
    "# model defining\n",
    "model.compile(optimizer=\"adam\", loss=\"binary_crossentropy\", metrics=[\"accuracy\"])"
   ]
  },
  {
   "cell_type": "code",
   "execution_count": 47,
   "metadata": {},
   "outputs": [],
   "source": [
    "# getting validation data to check the performance of model\n",
    "x_val =train_data[:10000]\n",
    "x_train = train_data[10000:]\n",
    "y_val =train_labels[:10000]\n",
    "y_train = train_labels[10000:]"
   ]
  },
  {
   "cell_type": "code",
   "execution_count": 59,
   "metadata": {},
   "outputs": [
    {
     "name": "stdout",
     "output_type": "stream",
     "text": [
      "Epoch 1/40\n",
      "30/30 [==============================] - 2s 62ms/step - loss: 0.0918 - accuracy: 0.9769 - val_loss: 0.3132 - val_accuracy: 0.8819\n",
      "Epoch 2/40\n",
      "30/30 [==============================] - 2s 55ms/step - loss: 0.0888 - accuracy: 0.9783 - val_loss: 0.3153 - val_accuracy: 0.8822\n",
      "Epoch 3/40\n",
      "30/30 [==============================] - 2s 56ms/step - loss: 0.0856 - accuracy: 0.9787 - val_loss: 0.3195 - val_accuracy: 0.8815\n",
      "Epoch 4/40\n",
      "30/30 [==============================] - 2s 55ms/step - loss: 0.0824 - accuracy: 0.9801 - val_loss: 0.3220 - val_accuracy: 0.8816\n",
      "Epoch 5/40\n",
      "30/30 [==============================] - 2s 55ms/step - loss: 0.0792 - accuracy: 0.9817 - val_loss: 0.3256 - val_accuracy: 0.8805\n",
      "Epoch 6/40\n",
      "30/30 [==============================] - 2s 56ms/step - loss: 0.0765 - accuracy: 0.9827 - val_loss: 0.3299 - val_accuracy: 0.8813\n",
      "Epoch 7/40\n",
      "30/30 [==============================] - 2s 56ms/step - loss: 0.0736 - accuracy: 0.9838 - val_loss: 0.3337 - val_accuracy: 0.8800\n",
      "Epoch 8/40\n",
      "30/30 [==============================] - 2s 55ms/step - loss: 0.0712 - accuracy: 0.9843 - val_loss: 0.3381 - val_accuracy: 0.8801\n",
      "Epoch 9/40\n",
      "30/30 [==============================] - 2s 55ms/step - loss: 0.0686 - accuracy: 0.9852 - val_loss: 0.3439 - val_accuracy: 0.8779\n",
      "Epoch 10/40\n",
      "30/30 [==============================] - 2s 55ms/step - loss: 0.0661 - accuracy: 0.9860 - val_loss: 0.3465 - val_accuracy: 0.8788\n",
      "Epoch 11/40\n",
      "30/30 [==============================] - 2s 56ms/step - loss: 0.0636 - accuracy: 0.9867 - val_loss: 0.3507 - val_accuracy: 0.8782\n",
      "Epoch 12/40\n",
      "30/30 [==============================] - 2s 56ms/step - loss: 0.0613 - accuracy: 0.9875 - val_loss: 0.3567 - val_accuracy: 0.8772\n",
      "Epoch 13/40\n",
      "30/30 [==============================] - 2s 56ms/step - loss: 0.0592 - accuracy: 0.9880 - val_loss: 0.3608 - val_accuracy: 0.8770\n",
      "Epoch 14/40\n",
      "30/30 [==============================] - 2s 55ms/step - loss: 0.0572 - accuracy: 0.9885 - val_loss: 0.3634 - val_accuracy: 0.8775\n",
      "Epoch 15/40\n",
      "30/30 [==============================] - 2s 54ms/step - loss: 0.0553 - accuracy: 0.9893 - val_loss: 0.3680 - val_accuracy: 0.8775\n",
      "Epoch 16/40\n",
      "30/30 [==============================] - 2s 56ms/step - loss: 0.0530 - accuracy: 0.9901 - val_loss: 0.3748 - val_accuracy: 0.8770\n",
      "Epoch 17/40\n",
      "30/30 [==============================] - 2s 60ms/step - loss: 0.0510 - accuracy: 0.9916 - val_loss: 0.3788 - val_accuracy: 0.8770\n",
      "Epoch 18/40\n",
      "30/30 [==============================] - 2s 60ms/step - loss: 0.0488 - accuracy: 0.9921 - val_loss: 0.3823 - val_accuracy: 0.8762\n",
      "Epoch 19/40\n",
      "30/30 [==============================] - 2s 57ms/step - loss: 0.0473 - accuracy: 0.9924 - val_loss: 0.3902 - val_accuracy: 0.8751\n",
      "Epoch 20/40\n",
      "30/30 [==============================] - 2s 55ms/step - loss: 0.0460 - accuracy: 0.9928 - val_loss: 0.3949 - val_accuracy: 0.8753\n",
      "Epoch 21/40\n",
      "30/30 [==============================] - 2s 55ms/step - loss: 0.0438 - accuracy: 0.9931 - val_loss: 0.3997 - val_accuracy: 0.8751\n",
      "Epoch 22/40\n",
      "30/30 [==============================] - 2s 55ms/step - loss: 0.0422 - accuracy: 0.9937 - val_loss: 0.4037 - val_accuracy: 0.8735\n",
      "Epoch 23/40\n",
      "30/30 [==============================] - 2s 55ms/step - loss: 0.0411 - accuracy: 0.9937 - val_loss: 0.4068 - val_accuracy: 0.8750\n",
      "Epoch 24/40\n",
      "30/30 [==============================] - 2s 54ms/step - loss: 0.0391 - accuracy: 0.9943 - val_loss: 0.4133 - val_accuracy: 0.8741\n",
      "Epoch 25/40\n",
      "30/30 [==============================] - 2s 56ms/step - loss: 0.0378 - accuracy: 0.9947 - val_loss: 0.4174 - val_accuracy: 0.8743\n",
      "Epoch 26/40\n",
      "30/30 [==============================] - 2s 57ms/step - loss: 0.0364 - accuracy: 0.9949 - val_loss: 0.4260 - val_accuracy: 0.8727\n",
      "Epoch 27/40\n",
      "30/30 [==============================] - 2s 54ms/step - loss: 0.0352 - accuracy: 0.9954 - val_loss: 0.4273 - val_accuracy: 0.8731\n",
      "Epoch 28/40\n",
      "30/30 [==============================] - 2s 57ms/step - loss: 0.0338 - accuracy: 0.9955 - val_loss: 0.4373 - val_accuracy: 0.8713\n",
      "Epoch 29/40\n",
      "30/30 [==============================] - 2s 56ms/step - loss: 0.0329 - accuracy: 0.9956 - val_loss: 0.4373 - val_accuracy: 0.8710\n",
      "Epoch 30/40\n",
      "30/30 [==============================] - 2s 57ms/step - loss: 0.0313 - accuracy: 0.9959 - val_loss: 0.4435 - val_accuracy: 0.8719\n",
      "Epoch 31/40\n",
      "30/30 [==============================] - 2s 59ms/step - loss: 0.0303 - accuracy: 0.9963 - val_loss: 0.4536 - val_accuracy: 0.8699\n",
      "Epoch 32/40\n",
      "30/30 [==============================] - 2s 54ms/step - loss: 0.0295 - accuracy: 0.9963 - val_loss: 0.4562 - val_accuracy: 0.8699\n",
      "Epoch 33/40\n",
      "30/30 [==============================] - 2s 54ms/step - loss: 0.0281 - accuracy: 0.9968 - val_loss: 0.4601 - val_accuracy: 0.8698\n",
      "Epoch 34/40\n",
      "30/30 [==============================] - 2s 57ms/step - loss: 0.0272 - accuracy: 0.9969 - val_loss: 0.4630 - val_accuracy: 0.8697\n",
      "Epoch 35/40\n",
      "30/30 [==============================] - 2s 62ms/step - loss: 0.0262 - accuracy: 0.9971 - val_loss: 0.4692 - val_accuracy: 0.8692\n",
      "Epoch 36/40\n",
      "30/30 [==============================] - 2s 59ms/step - loss: 0.0252 - accuracy: 0.9972 - val_loss: 0.4741 - val_accuracy: 0.8694\n",
      "Epoch 37/40\n",
      "30/30 [==============================] - 2s 61ms/step - loss: 0.0242 - accuracy: 0.9975 - val_loss: 0.4787 - val_accuracy: 0.8700\n",
      "Epoch 38/40\n",
      "30/30 [==============================] - 2s 62ms/step - loss: 0.0235 - accuracy: 0.9977 - val_loss: 0.4904 - val_accuracy: 0.8679\n",
      "Epoch 39/40\n",
      "30/30 [==============================] - 2s 63ms/step - loss: 0.0226 - accuracy: 0.9973 - val_loss: 0.4915 - val_accuracy: 0.8686\n",
      "Epoch 40/40\n",
      "30/30 [==============================] - 2s 61ms/step - loss: 0.0215 - accuracy: 0.9976 - val_loss: 0.4974 - val_accuracy: 0.8677\n"
     ]
    }
   ],
   "source": [
    "fitModel = model.fit(x_train, y_train, epochs = 40, batch_size = 512 , validation_data = (x_val, y_val), verbose = 1)"
   ]
  },
  {
   "cell_type": "code",
   "execution_count": 49,
   "metadata": {},
   "outputs": [
    {
     "name": "stdout",
     "output_type": "stream",
     "text": [
      "782/782 [==============================] - 2s 2ms/step - loss: 0.3321 - accuracy: 0.8710\n"
     ]
    }
   ],
   "source": [
    "results = model.evaluate(test_data, test_labels)"
   ]
  },
  {
   "cell_type": "code",
   "execution_count": 50,
   "metadata": {},
   "outputs": [
    {
     "name": "stdout",
     "output_type": "stream",
     "text": [
      " Loss =  0.3320654630661011 \n",
      " Accuracy = 0.870959997177124\n"
     ]
    }
   ],
   "source": [
    "print(' Loss = ',results[0],'\\n','Accuracy =', results[1])"
   ]
  },
  {
   "cell_type": "code",
   "execution_count": 51,
   "metadata": {},
   "outputs": [],
   "source": [
    "# saving data\n",
    "model.save(\"Moview_review_Model_1.h5\")"
   ]
  },
  {
   "cell_type": "code",
   "execution_count": 52,
   "metadata": {},
   "outputs": [
    {
     "name": "stdout",
     "output_type": "stream",
     "text": [
      "Review: \n",
      "<START> please give this one a miss br br <UNK> <UNK> and the rest of the cast rendered terrible performances the show is flat flat flat br br i don't know how michael madison could have allowed this one on his plate he almost seemed to know this wasn't going to work out and his performance was quite <UNK> so all you madison fans give this a miss <PAD> <PAD> <PAD> <PAD> <PAD> <PAD> <PAD> <PAD> <PAD> <PAD> <PAD> <PAD> <PAD> <PAD> <PAD> <PAD> <PAD> <PAD> <PAD> <PAD> <PAD> <PAD> <PAD> <PAD> <PAD> <PAD> <PAD> <PAD> <PAD> <PAD> <PAD> <PAD> <PAD> <PAD> <PAD> <PAD> <PAD> <PAD> <PAD> <PAD> <PAD> <PAD> <PAD> <PAD> <PAD> <PAD> <PAD> <PAD> <PAD> <PAD> <PAD> <PAD> <PAD> <PAD> <PAD> <PAD> <PAD> <PAD> <PAD> <PAD> <PAD> <PAD> <PAD> <PAD> <PAD> <PAD> <PAD> <PAD> <PAD> <PAD> <PAD> <PAD> <PAD> <PAD> <PAD> <PAD> <PAD> <PAD> <PAD> <PAD> <PAD> <PAD> <PAD> <PAD> <PAD> <PAD> <PAD> <PAD> <PAD> <PAD> <PAD> <PAD> <PAD> <PAD> <PAD> <PAD> <PAD> <PAD> <PAD> <PAD> <PAD> <PAD> <PAD> <PAD> <PAD> <PAD> <PAD> <PAD> <PAD> <PAD> <PAD> <PAD> <PAD> <PAD> <PAD> <PAD> <PAD> <PAD> <PAD> <PAD> <PAD> <PAD> <PAD> <PAD> <PAD> <PAD> <PAD> <PAD> <PAD> <PAD> <PAD> <PAD> <PAD> <PAD> <PAD> <PAD> <PAD> <PAD> <PAD> <PAD> <PAD> <PAD> <PAD> <PAD> <PAD> <PAD> <PAD> <PAD> <PAD> <PAD> <PAD> <PAD> <PAD> <PAD> <PAD> <PAD> <PAD> <PAD> <PAD> <PAD> <PAD> <PAD> <PAD> <PAD> <PAD> <PAD> <PAD> <PAD> <PAD> <PAD> <PAD> <PAD> <PAD> <PAD> <PAD> <PAD> <PAD> <PAD> <PAD> <PAD> <PAD> <PAD>\n",
      "Prediction: [1.6557381e-09]\n",
      "Actual: 0\n",
      "[0.3320654630661011, 0.870959997177124]\n",
      "Review: \n",
      "focuses on mood and character development the plot is very simple and many of the scenes take place on the same set in frances <UNK> the sandy dennis character apartment but the film builds to a disturbing climax br br the characters create an atmosphere <UNK> with sexual tension and psychological <UNK> it's very interesting that robert altman directed this considering the style and structure of his other films still the trademark altman audio style is evident here and there i think what really makes this film work is the brilliant performance by sandy dennis it's definitely one of her darker characters but she plays it so perfectly and convincingly that it's scary michael burns does a good job as the mute young man regular altman player michael murphy has a small part the <UNK> moody set fits the content of the story very well in short this movie is a powerful study of loneliness sexual <UNK> and desperation be patient <UNK> up the atmosphere and pay attention to the wonderfully written script br br i praise robert altman this is one of his many films that deals with unconventional fascinating subject matter this film is disturbing but it's sincere and it's sure to <UNK> a strong emotional response from the viewer if you want to see an unusual film some might even say bizarre this is worth the time br br unfortunately it's very difficult to find in video stores you may have to buy it off the internet\n",
      "Prediction: [0.00185254]\n",
      "Actual: 1\n",
      "[0.3320654630661011, 0.870959997177124]\n"
     ]
    }
   ],
   "source": [
    "# making sense of model\n",
    "for i in range(2):\n",
    "    test_review = test_data[i]\n",
    "    predict = model.predict([test_review])\n",
    "    print(\"Review: \")\n",
    "    print(decode_review(test_review))\n",
    "    print(\"Prediction: \" + str(predict[i]))\n",
    "    print(\"Actual: \" + str(test_labels[i]))\n",
    "    print(results)"
   ]
  },
  {
   "cell_type": "code",
   "execution_count": 53,
   "metadata": {},
   "outputs": [],
   "source": [
    "# Loading Model\n",
    "model = keras.models.load_model(\"Moview_review_Model_1.h5\")"
   ]
  },
  {
   "cell_type": "code",
   "execution_count": 54,
   "metadata": {},
   "outputs": [],
   "source": [
    "def review_encode(s):\n",
    "    encoded = [1]\n",
    "\n",
    "    for word in s:\n",
    "        if word.lower() in word_index:\n",
    "            encoded.append(word_index[word.lower()])\n",
    "        else:\n",
    "            encoded.append(2)\n",
    "    return encoded"
   ]
  },
  {
   "cell_type": "code",
   "execution_count": 55,
   "metadata": {},
   "outputs": [
    {
     "name": "stdout",
     "output_type": "stream",
     "text": [
      "[0.9458745]\n"
     ]
    }
   ],
   "source": [
    "with open(\"avenger.txt\", encoding=\"utf-8\") as f:\n",
    "    for line in f.readlines():\n",
    "        nline = line.replace(\",\", \"\").replace(\".\", \"\").replace(\"(\", \"\").replace(\")\", \"\").replace(\":\", \"\").replace(\"\\\"\",\"\").strip().split(\" \")\n",
    "        encode = review_encode(nline)\n",
    "        encode = keras.preprocessing.sequence.pad_sequences([encode], value=word_index[\"<PAD>\"], padding=\"post\", maxlen = 250)\n",
    "        predict = model.predict(encode)\n",
    "        #print(line)\n",
    "        #print(encode)\n",
    "        print(predict[0])"
   ]
  },
  {
   "cell_type": "code",
   "execution_count": 56,
   "metadata": {},
   "outputs": [
    {
     "name": "stdout",
     "output_type": "stream",
     "text": [
      "[0.13765365]\n"
     ]
    }
   ],
   "source": [
    "# bad movie review\n",
    "with open(\"bad.txt\", encoding=\"utf-8\") as f:\n",
    "    for line in f.readlines():\n",
    "        nline = line.replace(\",\",\"\").replace(\".\",\"\").replace(\"(\",\"\").replace(\")\",\"\").replace(\":\",\"\").replace(\"\\\"\",\"\").strip().split(\" \")\n",
    "        encode = review_encode(nline)\n",
    "        encode = keras.preprocessing.sequence.pad_sequences([encode], value= word_index[\"<PAD>\"], padding = \"post\", maxlen = 250)\n",
    "        predict = model.predict(encode)\n",
    "        #print(line)\n",
    "        #print(encode)\n",
    "        print(predict[0])"
   ]
  },
  {
   "cell_type": "code",
   "execution_count": 57,
   "metadata": {},
   "outputs": [
    {
     "name": "stdout",
     "output_type": "stream",
     "text": [
      "[0.47288683]\n"
     ]
    }
   ],
   "source": [
    "with open(\"Dil-Bechara-5-10.txt\", encoding=\"utf-8\") as f:\n",
    "    for line in f.readlines():\n",
    "        nline = line.replace(\",\",\"\").replace(\".\",\"\").replace(\"(\",\"\").replace(\")\",\"\").replace(\":\",\"\").replace(\"\\\"\",\"\").strip().split(\" \")\n",
    "        encode = review_encode(nline)\n",
    "        encode = keras.preprocessing.sequence.pad_sequences([encode], value= word_index[\"<PAD>\"], padding = \"post\", maxlen = 250)\n",
    "        predict = model.predict(encode)\n",
    "        #print(line)\n",
    "        #print(encode)\n",
    "        print(predict[0])"
   ]
  },
  {
   "cell_type": "code",
   "execution_count": 58,
   "metadata": {},
   "outputs": [
    {
     "name": "stdout",
     "output_type": "stream",
     "text": [
      "[0.9850619]\n"
     ]
    }
   ],
   "source": [
    "with open(\"Dil-Bechara-10-10.txt\", encoding=\"utf-8\") as f:\n",
    "    for line in f.readlines():\n",
    "        nline = line.replace(\",\",\"\").replace(\".\",\"\").replace(\"(\",\"\").replace(\")\",\"\").replace(\":\",\"\").replace(\"\\\"\",\"\").strip().split(\" \")\n",
    "        encode = review_encode(nline)\n",
    "        encode = keras.preprocessing.sequence.pad_sequences([encode], value= word_index[\"<PAD>\"], padding = \"post\", maxlen = 250)\n",
    "        predict = model.predict(encode)\n",
    "        #print(line)\n",
    "        #print(encode)\n",
    "        print(predict[0])"
   ]
  }
 ],
 "metadata": {
  "kernelspec": {
   "display_name": "Python 3",
   "language": "python",
   "name": "python3"
  },
  "language_info": {
   "codemirror_mode": {
    "name": "ipython",
    "version": 3
   },
   "file_extension": ".py",
   "mimetype": "text/x-python",
   "name": "python",
   "nbconvert_exporter": "python",
   "pygments_lexer": "ipython3",
   "version": "3.7.6"
  }
 },
 "nbformat": 4,
 "nbformat_minor": 4
}
